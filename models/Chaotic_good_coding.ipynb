{
 "cells": [
  {
   "cell_type": "code",
   "execution_count": 1,
   "id": "500cca77",
   "metadata": {},
   "outputs": [],
   "source": [
    "from cobra.io import read_sbml_model\n",
    "from cobra import Reaction\n",
    "from cobra.flux_analysis.phenotype_phase_plane import production_envelope\n",
    "model = read_sbml_model('iML1515.xml')"
   ]
  },
  {
   "cell_type": "code",
   "execution_count": null,
   "id": "517ffcb8",
   "metadata": {},
   "outputs": [],
   "source": [
    "for reaction in model.metabolites.gam_c.reactions:\n",
    "    print(reaction.id, reaction, reaction.name)"
   ]
  },
  {
   "cell_type": "code",
   "execution_count": null,
   "id": "a93a716d",
   "metadata": {},
   "outputs": [],
   "source": [
    "print(model.objective)"
   ]
  },
  {
   "cell_type": "code",
   "execution_count": null,
   "id": "fc2c2afd",
   "metadata": {},
   "outputs": [],
   "source": [
    "model.optimize().fluxes[\"MC6PH\"]"
   ]
  },
  {
   "cell_type": "code",
   "execution_count": null,
   "id": "e2e6bb17",
   "metadata": {},
   "outputs": [],
   "source": [
    "model.medium"
   ]
  },
  {
   "cell_type": "code",
   "execution_count": null,
   "id": "c3a10baf",
   "metadata": {},
   "outputs": [],
   "source": [
    "model.reactions.EX_chtbs_e.lower_bound = -1000.0\n",
    "model.reactions.EX_chtbs_e.upper_bound = 1000.0"
   ]
  },
  {
   "cell_type": "code",
   "execution_count": null,
   "id": "ce485b62",
   "metadata": {},
   "outputs": [],
   "source": [
    "model.reactions.EX_chtbs_e"
   ]
  },
  {
   "cell_type": "code",
   "execution_count": null,
   "id": "65918c2a",
   "metadata": {},
   "outputs": [],
   "source": [
    "medium = model.medium\n",
    "with model:\n",
    "    medium['EX_chtbs_e'] = 1000\n",
    "    model.medium = medium\n",
    "    # model.objective = model.reactions.BIOMASS_Ec_iML1515_core_75p37M\n",
    "    model.objective = model.reactions.MC6PH\n",
    "    model.objective = {\n",
    "                      model.reactions.BIOMASS_Ec_iML1515_core_75p37M: 0.2,\n",
    "                      }\n",
    "    model.reactions.BIOMASS_Ec_iML1515_core_75p37M.lower_bound = model.optimize().objective_value\n",
    "    model.add_boundary(model.metabolites.gam_c, type='demand')\n",
    "    solution = model.optimize()\n",
    "    print(solution.fluxes[solution.fluxes != 0])\n",
    "    print(solution.fluxes[\"MC6PH\"])\n",
    "    print(solution.fluxes[\"BIOMASS_Ec_iML1515_core_75p37M\"])\n",
    "    print(model.reactions.DM_gam_c)"
   ]
  },
  {
   "cell_type": "code",
   "execution_count": null,
   "id": "bc610a92",
   "metadata": {},
   "outputs": [],
   "source": [
    "# from cobra import Reaction\n",
    "# medium = model.medium\n",
    "# with model:\n",
    "#     medium['EX_chtbs_e'] = 0\n",
    "#     # gene integration\n",
    "#     reaction = Reaction(\"asdf\")\n",
    "#     reaction.name = \"name of reaction\"\n",
    "#     reaction.subsystem = \"some metabolsim\"\n",
    "#     reaction.lower_bound = -1000\n",
    "#     reaction.upper_bound = 1000\n",
    "\n",
    "#     reaction.add_metabolites({\n",
    "#         model.metabolites.get_by_id(\"glcn_c\"): -1.0,\n",
    "#         model.metabolites.get_by_id(\"gln__L_c\"): -1.0,\n",
    "#         model.metabolites.get_by_id(\"gam_c\"): 1.0,\n",
    "#         model.metabolites.get_by_id(\"glu__L_c\"): 1.0\n",
    "#     })\n",
    "#     model.add_reactions([reaction])\n",
    "#     model.medium = medium\n",
    "#     model.objective = model.reactions.asdf\n",
    "#     model.add_boundary(model.metabolites.gam_c, type='demand')\n",
    "#     solution = model.optimize()\n",
    "#     print(solution.fluxes[solution.fluxes != 0])\n",
    "#     print(solution.fluxes[\"asdf\"])"
   ]
  },
  {
   "cell_type": "code",
   "execution_count": null,
   "id": "a3409b9a",
   "metadata": {},
   "outputs": [],
   "source": [
    "model.genes.get_by_id(\"b4025\")"
   ]
  },
  {
   "cell_type": "code",
   "execution_count": null,
   "id": "fe192ab5",
   "metadata": {},
   "outputs": [],
   "source": [
    "model.reactions.PGI"
   ]
  },
  {
   "cell_type": "code",
   "execution_count": null,
   "id": "7d7f600e",
   "metadata": {},
   "outputs": [],
   "source": [
    "model.slim_optimize()\n",
    "model.reactions.PGI.flux"
   ]
  },
  {
   "cell_type": "code",
   "execution_count": null,
   "id": "25285e93",
   "metadata": {},
   "outputs": [],
   "source": [
    "model.reactions.GF6PTA"
   ]
  },
  {
   "cell_type": "code",
   "execution_count": null,
   "id": "3fc46468",
   "metadata": {},
   "outputs": [],
   "source": [
    "model.slim_optimize()\n",
    "model.reactions.GF6PTA.flux"
   ]
  },
  {
   "cell_type": "code",
   "execution_count": null,
   "id": "d400b0aa",
   "metadata": {},
   "outputs": [],
   "source": [
    "model.genes.get_by_id(\"b0677\")"
   ]
  },
  {
   "cell_type": "code",
   "execution_count": null,
   "id": "0fce9436",
   "metadata": {},
   "outputs": [],
   "source": [
    "model.reactions.AGDC"
   ]
  },
  {
   "cell_type": "code",
   "execution_count": null,
   "id": "5e98576d",
   "metadata": {},
   "outputs": [],
   "source": [
    "model.genes.get_by_id(\"b0679\")"
   ]
  },
  {
   "cell_type": "code",
   "execution_count": null,
   "id": "83eba6de",
   "metadata": {},
   "outputs": [],
   "source": [
    "model.reactions.ACGAptspp.genes"
   ]
  },
  {
   "cell_type": "code",
   "execution_count": null,
   "id": "72aed983",
   "metadata": {},
   "outputs": [],
   "source": [
    "for reaction in model.metabolites.acgam6p_c.reactions:\n",
    "    print(reaction.id, reaction, reaction.name)"
   ]
  },
  {
   "cell_type": "code",
   "execution_count": null,
   "id": "0dec9aec",
   "metadata": {},
   "outputs": [],
   "source": [
    "genes = [\"b0677\", \"b0678\", \"b0679\", \"b1817\", \"b1818\", \"b1819\"]\n",
    "essentiality = {}\n",
    "for gene in genes:\n",
    "    with model:\n",
    "        model.genes.get_by_id(gene).knock_out()\n",
    "        essentiality[gene] = model.slim_optimize(error_value=0.)"
   ]
  },
  {
   "cell_type": "code",
   "execution_count": null,
   "id": "e49c39ef",
   "metadata": {},
   "outputs": [],
   "source": [
    "essentiality"
   ]
  },
  {
   "cell_type": "markdown",
   "id": "73dbc839",
   "metadata": {},
   "source": [
    "Plotting KO growthrates. As seen, they don't have a detrimental effect on the growth rate."
   ]
  },
  {
   "cell_type": "code",
   "execution_count": null,
   "id": "4b095d11",
   "metadata": {},
   "outputs": [],
   "source": [
    "import pandas as pd\n",
    "import matplotlib.pyplot as plt\n",
    "df = pd.DataFrame.from_dict(essentiality, orient='index')\n",
    "df = df.rename(columns={0: 'growth'})\n",
    "df = df.sort_values('growth')\n",
    "df.plot.hist()"
   ]
  },
  {
   "cell_type": "code",
   "execution_count": 9,
   "id": "8ac64671",
   "metadata": {},
   "outputs": [
    {
     "name": "stdout",
     "output_type": "stream",
     "text": [
      "SHK3Dr                             0.171504\n",
      "NDPK8                             -4.781045\n",
      "DHORTS                            -0.148858\n",
      "OMPDC                              0.148858\n",
      "PYNP2r                             0.011775\n",
      "                                    ...    \n",
      "4HTHRK                             0.000301\n",
      "BIOMASS_Ec_iML1515_core_75p37M     0.450000\n",
      "ExRe1                             24.077781\n",
      "ExRe2                             24.077781\n",
      "DM_acgam_p                        24.077781\n",
      "Name: fluxes, Length: 498, dtype: float64\n",
      "GF6PTA 24.120300315607746\n",
      "G6PDA 0.0\n",
      "ACGAptspp 0.0\n",
      "ExRe1 24.077780715607748\n",
      "ExRe2 24.077780715607748\n",
      "Biomass 0.45\n",
      "  carbon_source  flux_minimum  carbon_yield_minimum  mass_yield_minimum  \\\n",
      "0   EX_glc__D_e      0.000000              0.000000                 NaN   \n",
      "1   EX_glc__D_e      1.267252              0.077443                 NaN   \n",
      "2   EX_glc__D_e      2.534503              0.154886                 NaN   \n",
      "3   EX_glc__D_e      3.801755              0.232329                 NaN   \n",
      "4   EX_glc__D_e      5.069006              0.309773                 NaN   \n",
      "\n",
      "   flux_maximum  carbon_yield_maximum  mass_yield_maximum     ExRe2  \n",
      "0      0.000000              0.000000                 NaN  0.000000  \n",
      "1      1.267252              0.077443                 NaN  1.267252  \n",
      "2      2.534503              0.154886                 NaN  2.534503  \n",
      "3      3.801755              0.232329                 NaN  3.801755  \n",
      "4      5.069006              0.309773                 NaN  5.069006  \n"
     ]
    },
    {
     "data": {
      "image/png": "[encoded data removed]",
      "text/plain": [
       "<Figure size 640x480 with 1 Axes>"
      ]
     },
     "metadata": {},
     "output_type": "display_data"
    },
    {
     "data": {
      "image/png": "[encoded data removed]",
      "text/plain": [
       "<Figure size 640x480 with 1 Axes>"
      ]
     },
     "metadata": {},
     "output_type": "display_data"
    }
   ],
   "source": [
    "medium = model.medium\n",
    "with model:\n",
    "    medium['EX_glc__D_e'] = 30\n",
    "    medium['EX_rib__D_e'] = 10\n",
    "    #medium['EX_nh4_e'] = 10\n",
    "    model.medium = medium\n",
    "    model.genes.get_by_id(\"b0677\").knock_out()\n",
    "    model.genes.get_by_id(\"b0678\").knock_out()\n",
    "    model.genes.get_by_id(\"b0679\").knock_out()\n",
    "    model.genes.get_by_id(\"b1817\").knock_out()\n",
    "    model.genes.get_by_id(\"b1818\").knock_out()\n",
    "    model.genes.get_by_id(\"b1819\").knock_out()\n",
    "    model.genes.get_by_id(\"b1101\").knock_out()\n",
    "    model.genes.get_by_id(\"b2415\").knock_out()\n",
    "    model.genes.get_by_id(\"b2416\").knock_out()\n",
    "    model.genes.get_by_id(\"b2417\").knock_out()\n",
    "    # gene integration\n",
    "    reaction = Reaction(\"ExRe1\")\n",
    "    reaction.name = \"GlcNAc-6-P N-Acetyltransferase\"\n",
    "    reaction.lower_bound = 0\n",
    "    reaction.upper_bound = 1000\n",
    "    \n",
    "    reaction.add_metabolites({\n",
    "        model.metabolites.get_by_id(\"ac_c\"): -1.0,\n",
    "        model.metabolites.get_by_id(\"gam6p_c\"): -1.0,\n",
    "        model.metabolites.get_by_id(\"acgam6p_c\"): 1.0,\n",
    "        model.metabolites.get_by_id(\"h2o_c\"): 1.0\n",
    "    })\n",
    "    model.add_reactions([reaction])\n",
    "    reaction = Reaction(\"ExRe2\")\n",
    "    reaction.name = \"GlcNAc-6-P phosphatase\"\n",
    "    reaction.lower_bound = 0\n",
    "    reaction.upper_bound = 1000\n",
    "    \n",
    "    reaction.add_metabolites({\n",
    "        model.metabolites.get_by_id(\"acgam6p_c\"): -1.0,\n",
    "        model.metabolites.get_by_id(\"pyr_c\"): -1.0,\n",
    "        model.metabolites.get_by_id(\"pep_c\"): 1.0,\n",
    "        model.metabolites.get_by_id(\"acgam_p\"): 1.0\n",
    "    })\n",
    "    model.add_reactions([reaction])\n",
    "    model.add_boundary(model.metabolites.acgam_p, type=\"demand\")\n",
    "    model.reactions.BIOMASS_Ec_iML1515_core_75p37M.lower_bound = 0.45\n",
    "    model.objective = model.reactions.ExRe2\n",
    "    solution = model.optimize()\n",
    "    print(solution.fluxes[solution.fluxes != 0])\n",
    "    print(\"GF6PTA\", solution.fluxes[\"GF6PTA\"])\n",
    "    print(\"G6PDA\", solution.fluxes[\"G6PDA\"])\n",
    "    print(\"ACGAptspp\", solution.fluxes[\"ACGAptspp\"])\n",
    "    print(\"ExRe1\", solution.fluxes[\"ExRe1\"])\n",
    "    print(\"ExRe2\", solution.fluxes[\"ExRe2\"])\n",
    "    print(\"Biomass\", solution.fluxes[\"BIOMASS_Ec_iML1515_core_75p37M\"])\n",
    "\n",
    "    \n",
    "    asdf = production_envelope(model, [\"ExRe2\"], objective=\"ExRe2\", carbon_sources=\"EX_glc__D_e\")\n",
    "    print(asdf.head())\n",
    "    asdf.plot(x='ExRe2', y='flux_maximum')\n",
    "    asdf.plot(x=\"ExRe2\", y= \"flux_minimum\")    "
   ]
  },
  {
   "cell_type": "code",
   "execution_count": null,
   "id": "dba509fb",
   "metadata": {},
   "outputs": [],
   "source": []
  }
 ],
 "metadata": {
  "kernelspec": {
   "display_name": "Python 3.9.13 ('python')",
   "language": "python",
   "name": "python3"
  },
  "language_info": {
   "codemirror_mode": {
    "name": "ipython",
    "version": 3
   },
   "file_extension": ".py",
   "mimetype": "text/x-python",
   "name": "python",
   "nbconvert_exporter": "python",
   "pygments_lexer": "ipython3",
   "version": "3.9.13"
  },
  "vscode": {
   "interpreter": {
    "hash": "3683712886e8845406ef8b102dc6db12f3241dd2125d9a921f1bf2c988cf850d"
   }
  }
 },
 "nbformat": 4,
 "nbformat_minor": 5
}
