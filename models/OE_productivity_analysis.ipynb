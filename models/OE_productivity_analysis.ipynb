{
 "cells": [
  {
   "cell_type": "code",
   "execution_count": 2,
   "id": "604891db",
   "metadata": {},
   "outputs": [],
   "source": [
    "#Packages\n",
    "import cobra\n",
    "from cobra import Reaction, Metabolite, Model\n",
    "from cobra.io import read_sbml_model\n",
    "from cobra.flux_analysis import flux_variability_analysis\n",
    "\n",
    "#Model input\n",
    "modelOE=read_sbml_model('iJN678mod.xml')"
   ]
  },
  {
   "cell_type": "code",
   "execution_count": 3,
   "id": "7f3b4db9",
   "metadata": {},
   "outputs": [],
   "source": [
    "#change the culture condition to be fully autotrophic as production needed\n",
    "co2OE=modelOE.reactions.get_by_id(\"EX_co2_e\")\n",
    "photonOE=modelOE.reactions.get_by_id(\"EX_photon_e\")\n",
    "hco3OE=modelOE.reactions.get_by_id(\"EX_hco3_e\")\n",
    "\n",
    "co2OE.bounds=(-3.7,1000.0)\n",
    "hco3OE.bounds= (-3.7,1000.0)\n",
    "photonOE.bounds= (-100,0)\n",
    "\n",
    "medium = modelOE.medium\n",
    "medium[\"EX_glc__D_e\"] = 0.0\n",
    "medium[\"EX_hco3_e\"] = 0.0\n",
    "medium[\"EX_photon_e\"]=54.5\n",
    "modelOE.medium = medium"
   ]
  },
  {
   "cell_type": "code",
   "execution_count": 4,
   "id": "5ebd737d",
   "metadata": {},
   "outputs": [
    {
     "name": "stdout",
     "output_type": "stream",
     "text": [
      "The genes that could be overexpressed are:\n",
      "sll0513, encoding: Squalene synthase SQLS: 2.0 frdp_c + h_c + nadph_c --> nadp_c + 2.0 ppi_c + sql_c\n",
      "sll1945, encoding: 1-deoxy-D-xylulose 5-phosphate synthase: DXPS: g3p_c + h_c + pyr_c --> co2_c + dxyl5p_c\n",
      "sll1556, encoding: Isopentenyl-diphosphate D-isomerase IPDDI: ipdp_c <=> dmpp_c\n",
      "pys, encoding: Geranyltranstransferase GRTT: grdp_c + ipdp_c --> frdp_c + ppi_c\n"
     ]
    }
   ],
   "source": [
    "print(\"The genes that could be overexpressed are:\")\n",
    "print(\"sll0513, encoding: Squalene synthase\" , modelOE.reactions.get_by_id(\"SQLS\"))\n",
    "print(\"sll1945, encoding: 1-deoxy-D-xylulose 5-phosphate synthase:\" , modelOE.reactions.get_by_id(\"DXPS\"))\n",
    "print(\"sll1556, encoding: Isopentenyl-diphosphate D-isomerase\" , modelOE.reactions.get_by_id(\"IPDDI\"))\n",
    "print(\"pys, encoding: Geranyltranstransferase\" , modelOE.reactions.get_by_id(\"GRTT\"))"
   ]
  },
  {
   "cell_type": "code",
   "execution_count": 5,
   "id": "e6b1c55c",
   "metadata": {},
   "outputs": [
    {
     "name": "stdout",
     "output_type": "stream",
     "text": [
      "The theoretical maximum Squalene production rate is:  0.12333333333333342 mmol/gdcw/h\n",
      "The CO2, carbon source, uptake rate is:  3.7 mmol/gdcw/h\n",
      "The biomass production under this condition is:  0.0 /h\n"
     ]
    }
   ],
   "source": [
    "#change objective to squalene production\n",
    "modelOE.objective = \"EX_sql_e\"\n",
    "print(\"The theoretical maximum Squalene production rate is: \", modelOE.optimize().objective_value, \"mmol/gdcw/h\")\n",
    "print(\"The CO2, carbon source, uptake rate is: \", -modelOE.optimize().fluxes['EX_co2_e'], \"mmol/gdcw/h\")\n",
    "print(\"The biomass production under this condition is: \" , modelOE.optimize().fluxes['BIOMASS_Ec_SynAuto'], \"/h\")"
   ]
  },
  {
   "cell_type": "code",
   "execution_count": 6,
   "id": "64d9219f",
   "metadata": {},
   "outputs": [
    {
     "data": {
      "text/html": [
       "<h3>Objective</h3><p>1.0 EX_sql_e = 0.12333333333333342</p><h4>Uptake</h4><table border=\"1\" class=\"dataframe\">\n",
       "  <thead>\n",
       "    <tr style=\"text-align: right;\">\n",
       "      <th>Metabolite</th>\n",
       "      <th>Reaction</th>\n",
       "      <th>Flux</th>\n",
       "      <th>C-Number</th>\n",
       "      <th>C-Flux</th>\n",
       "    </tr>\n",
       "  </thead>\n",
       "  <tbody>\n",
       "    <tr>\n",
       "      <td>co2_e</td>\n",
       "      <td>EX_co2_e</td>\n",
       "      <td>3.7</td>\n",
       "      <td>1</td>\n",
       "      <td>100.00%</td>\n",
       "    </tr>\n",
       "    <tr>\n",
       "      <td>h2o_e</td>\n",
       "      <td>EX_h2o_e</td>\n",
       "      <td>3.083</td>\n",
       "      <td>0</td>\n",
       "      <td>0.00%</td>\n",
       "    </tr>\n",
       "    <tr>\n",
       "      <td>photon_e</td>\n",
       "      <td>EX_photon_e</td>\n",
       "      <td>49.33</td>\n",
       "      <td>0</td>\n",
       "      <td>0.00%</td>\n",
       "    </tr>\n",
       "  </tbody>\n",
       "</table><h4>Secretion</h4><table border=\"1\" class=\"dataframe\">\n",
       "  <thead>\n",
       "    <tr style=\"text-align: right;\">\n",
       "      <th>Metabolite</th>\n",
       "      <th>Reaction</th>\n",
       "      <th>Flux</th>\n",
       "      <th>C-Number</th>\n",
       "      <th>C-Flux</th>\n",
       "    </tr>\n",
       "  </thead>\n",
       "  <tbody>\n",
       "    <tr>\n",
       "      <td>o2_e</td>\n",
       "      <td>EX_o2_e</td>\n",
       "      <td>-5.242</td>\n",
       "      <td>0</td>\n",
       "      <td>0.00%</td>\n",
       "    </tr>\n",
       "    <tr>\n",
       "      <td>sql_e</td>\n",
       "      <td>EX_sql_e</td>\n",
       "      <td>-0.1233</td>\n",
       "      <td>0</td>\n",
       "      <td>0.00%</td>\n",
       "    </tr>\n",
       "  </tbody>\n",
       "</table>"
      ],
      "text/plain": [
       "<cobra.summary.model_summary.ModelSummary at 0x7feb6396c8b0>"
      ]
     },
     "execution_count": 6,
     "metadata": {},
     "output_type": "execute_result"
    }
   ],
   "source": [
    "modelOE.summary()"
   ]
  },
  {
   "cell_type": "code",
   "execution_count": 7,
   "id": "b527e2b1",
   "metadata": {},
   "outputs": [],
   "source": [
    "x=[]\n",
    "y=[]\n",
    "z=[]\n",
    "k=[]\n",
    "Biomass=[]\n",
    "Productivity=[]\n",
    "SQL=[]\n",
    "optimum_value=[]\n",
    "with modelOE:\n",
    "        medium = modelOE.medium\n",
    "        modelOE.objective = \"EX_sql_e\"\n",
    "        optimum=modelOE.optimize().objective_value\n",
    "        i=0.05\n",
    "        while i<1:\n",
    "            FVA=flux_variability_analysis(modelOE,modelOE.reactions.BIOMASS_Ec_SynAuto,fraction_of_optimum=i)\n",
    "            Biomass.append(FVA.maximum.item())\n",
    "            Productivity.append(-i*optimum*FVA.maximum.item()/modelOE.optimize().fluxes['EX_co2_e'])\n",
    "            SQL.append(i*optimum)\n",
    "            optimum_value.append(i)\n",
    "            i+=0.05 \n",
    "        x.append(Biomass)\n",
    "        y.append(Productivity)\n",
    "        z.append(SQL)\n",
    "        k.append(optimum_value)"
   ]
  },
  {
   "cell_type": "code",
   "execution_count": 8,
   "id": "48b0385f",
   "metadata": {},
   "outputs": [
    {
     "data": {
      "image/png": "[encoded data removed]",
      "text/plain": [
       "<Figure size 432x288 with 1 Axes>"
      ]
     },
     "metadata": {
      "needs_background": "light"
     },
     "output_type": "display_data"
    }
   ],
   "source": [
    "import matplotlib.pyplot as plt\n",
    "for i in range (0,len(y)):\n",
    "    plt.figure()\n",
    "    plt.plot(x[i],y[i])\n",
    "    plt.xlabel(\"Biomass\")\n",
    "    plt.ylabel(\"Productivity\")\n",
    "    plt.title('SQL Productivity') \n",
    "plt.show()"
   ]
  },
  {
   "cell_type": "code",
   "execution_count": 9,
   "id": "f235132d",
   "metadata": {},
   "outputs": [
    {
     "data": {
      "image/png": "[encoded data removed]",
      "text/plain": [
       "<Figure size 432x288 with 1 Axes>"
      ]
     },
     "metadata": {
      "needs_background": "light"
     },
     "output_type": "display_data"
    }
   ],
   "source": [
    "for i in range (0,len(y)):\n",
    "    plt.figure()\n",
    "    plt.plot(x[i],z[i])\n",
    "    plt.xlabel(\"Biomass\")\n",
    "    plt.ylabel(\"SQL\")\n",
    "    plt.title('SQL Flux') \n",
    "plt.show()"
   ]
  },
  {
   "cell_type": "code",
   "execution_count": 10,
   "id": "51dc8d82",
   "metadata": {},
   "outputs": [
    {
     "name": "stdout",
     "output_type": "stream",
     "text": [
      "The highest productivity will be reached when:\n",
      "growth rate is  0.04859441594166733 /h,\n",
      "and the corresponding productivity will be 0.0007289162391250104 mol/mol/h\n",
      "The squalene production rate will be 0.05550000000000004 mmol/gdcw/h.\n",
      "The optimum value set for production of SQL is 0.44999999999999996\n"
     ]
    }
   ],
   "source": [
    "Biomass_sorted,Productivity_sorted,SQLsorted,optimum_value_sorted = zip(*sorted(list(zip(Biomass, Productivity,SQL,optimum_value)), key=lambda item: item[1], reverse=True))\n",
    "print(\"The highest productivity will be reached when:\")\n",
    "print(\"growth rate is \", Biomass_sorted[1], \"/h,\")\n",
    "print(\"and the corresponding productivity will be\", Productivity_sorted[1], \"mol/mol/h\")\n",
    "print(\"The squalene production rate will be\",SQLsorted[1], \"mmol/gdcw/h.\" )\n",
    "print(\"The optimum value set for production of SQL is\",  optimum_value_sorted[1])"
   ]
  },
  {
   "cell_type": "code",
   "execution_count": 11,
   "id": "daa05243",
   "metadata": {},
   "outputs": [
    {
     "name": "stdout",
     "output_type": "stream",
     "text": [
      "The optimal fluxes of the reaction corresponding to the overexpression genes are:\n",
      "For Squalene synthase:  0.06783333333333337\n",
      "For 1-deoxy-D-xylulose 5-phosphate synthase: 0.4143385517945843\n",
      "For Isopentenyl-diphosphate D-isomerase 0.0 #reversible reaction\n",
      "For Geranyltranstransferase 0.13750203523663862\n"
     ]
    }
   ],
   "source": [
    "#set the bounds of SQLS\n",
    "modelOE.reactions.get_by_id('SQLS').bounds = (0.06783333333333337,0.06783333333333337)\n",
    "print(\"The optimal fluxes of the reaction corresponding to the overexpression genes are:\")\n",
    "print(\"For Squalene synthase: \", modelOE.optimize().fluxes['SQLS'])\n",
    "print(\"For 1-deoxy-D-xylulose 5-phosphate synthase:\" , modelOE.optimize().fluxes['DXPS'])\n",
    "print(\"For Isopentenyl-diphosphate D-isomerase\" , modelOE.optimize().fluxes[\"IPDDI\"], \"#reversible reaction\")\n",
    "print(\"For Geranyltranstransferase\" , modelOE.optimize().fluxes[\"GRTT\"])"
   ]
  },
  {
   "cell_type": "markdown",
   "id": "73bc2984",
   "metadata": {},
   "source": [
    "The squalene bounds are set to a fixed value at  0.06783333333333337, in order to make sure the desired biomass flux can be achieved when objective is set to suqlane production."
   ]
  },
  {
   "cell_type": "code",
   "execution_count": null,
   "id": "ea06ef6e",
   "metadata": {},
   "outputs": [],
   "source": []
  },
  {
   "cell_type": "code",
   "execution_count": 12,
   "id": "a8878bb2",
   "metadata": {},
   "outputs": [],
   "source": [
    "#To compare with model optimised for cell growth\n",
    "model_growth=read_sbml_model('iJN678mod.xml')  \n",
    "model_growth.objective = \"BIOMASS_Ec_SynAuto\""
   ]
  },
  {
   "cell_type": "code",
   "execution_count": 13,
   "id": "0c19308a",
   "metadata": {},
   "outputs": [
    {
     "name": "stdout",
     "output_type": "stream",
     "text": [
      "Compare the optimum flux with original model optimised only for cell growth, the expression levels are increased as follows:\n",
      "For Squalene synthase: the flux increased from 0.0 to 0.06783333333333337\n",
      "For 1-deoxy-D-xylulose 5-phosphate synthase, flux increased by: 3885.7421363707817 %\n",
      "For Isopentenyl-diphosphate D-isomerase , flux increased by: 74.99004406662613 %, in the direction of favouring Isopentenyl diphosphate\n",
      "For Geranyltranstransferase, flux increased by: 5156.02284510191 %\n"
     ]
    }
   ],
   "source": [
    "print(\"Compare the optimum flux with original model optimised only for cell growth, the expression levels are increased as follows:\")\n",
    "print(\"For Squalene synthase: the flux increased from\", model_growth.optimize().fluxes['SQLS'], \"to\", modelOE.optimize().fluxes['SQLS'])\n",
    "\n",
    "print(\"For 1-deoxy-D-xylulose 5-phosphate synthase, flux increased by:\" , modelOE.optimize().fluxes['DXPS']*100/model_growth.optimize().fluxes['DXPS'], \"%\")\n",
    "\n",
    "ipddiflux=flux_variability_analysis(model_growth,model_growth.reactions.get_by_id(\"IPDDI\"),fraction_of_optimum=1)\n",
    "ipddi_increase = (modelOE.optimize().fluxes[\"IPDDI\"]-ipddiflux.minimum.item())*100/(model_growth.optimize().fluxes[\"IPDDI\"]-ipddiflux.minimum.item())\n",
    "print(\"For Isopentenyl-diphosphate D-isomerase , flux increased by:\", ipddi_increase, \"%, in the direction of favouring Isopentenyl diphosphate\")\n",
    "print(\"For Geranyltranstransferase, flux increased by:\" , modelOE.optimize().fluxes[\"GRTT\"]*100/model_growth.optimize().fluxes[\"GRTT\"], \"%\")"
   ]
  },
  {
   "cell_type": "code",
   "execution_count": null,
   "id": "0f2a0ed2",
   "metadata": {},
   "outputs": [],
   "source": []
  }
 ],
 "metadata": {
  "kernelspec": {
   "display_name": "Python 3 (ipykernel)",
   "language": "python",
   "name": "python3"
  },
  "language_info": {
   "codemirror_mode": {
    "name": "ipython",
    "version": 3
   },
   "file_extension": ".py",
   "mimetype": "text/x-python",
   "name": "python",
   "nbconvert_exporter": "python",
   "pygments_lexer": "ipython3",
   "version": "3.8.13"
  }
 },
 "nbformat": 4,
 "nbformat_minor": 5
}
