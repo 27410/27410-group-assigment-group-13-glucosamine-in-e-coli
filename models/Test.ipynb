{
 "cells": [
  {
   "cell_type": "code",
   "execution_count": 13,
   "id": "500cca77",
   "metadata": {},
   "outputs": [],
   "source": [
    "from cobra.io import read_sbml_model\n",
    "from cobra import Reaction, Metabolite\n",
    "model = read_sbml_model('iML1515.xml')"
   ]
  },
  {
   "cell_type": "code",
   "execution_count": 2,
   "id": "38c1f474",
   "metadata": {},
   "outputs": [
    {
     "data": {
      "text/plain": [
       "{'c': 'cytosol', 'e': 'extracellular space', 'p': 'periplasm'}"
      ]
     },
     "execution_count": 2,
     "metadata": {},
     "output_type": "execute_result"
    }
   ],
   "source": [
    "model.compartments"
   ]
  },
  {
   "cell_type": "code",
   "execution_count": 3,
   "id": "28295630",
   "metadata": {},
   "outputs": [
    {
     "name": "stdout",
     "output_type": "stream",
     "text": [
      "MC6PH MC6PH: h2o_c + mchtbs6p_c --> acgam6p_c + gam_c Monoacetylchitobiose-6-phosphate hydrolase\n"
     ]
    }
   ],
   "source": [
    "for reaction in model.metabolites.gam_c.reactions:\n",
    "    print(reaction.id, reaction, reaction.name)"
   ]
  },
  {
   "cell_type": "code",
   "execution_count": 4,
   "id": "f7795eff",
   "metadata": {},
   "outputs": [
    {
     "name": "stdout",
     "output_type": "stream",
     "text": [
      "EX_chtbs_e EX_chtbs_e: chtbs_e -->  Chitobiose exchange\n",
      "CHTBStex CHTBStex: chtbs_e <=> chtbs_p Chitobiose transport via diffusion (extracellular to periplasm)\n"
     ]
    }
   ],
   "source": [
    "for reaction in model.metabolites.chtbs_e.reactions:\n",
    "    print(reaction.id, reaction, reaction.name)"
   ]
  },
  {
   "cell_type": "code",
   "execution_count": 5,
   "id": "92a2ecc5",
   "metadata": {},
   "outputs": [
    {
     "name": "stdout",
     "output_type": "stream",
     "text": [
      "Maximize\n",
      "1.0*BIOMASS_Ec_iML1515_core_75p37M - 1.0*BIOMASS_Ec_iML1515_core_75p37M_reverse_35685\n"
     ]
    }
   ],
   "source": [
    "print(model.objective)"
   ]
  },
  {
   "cell_type": "code",
   "execution_count": 6,
   "id": "9c1ecb0c",
   "metadata": {},
   "outputs": [],
   "source": [
    "model.objective = model.reactions.MC6PH"
   ]
  },
  {
   "cell_type": "code",
   "execution_count": 7,
   "id": "078a5f40",
   "metadata": {},
   "outputs": [
    {
     "data": {
      "text/plain": [
       "0.0"
      ]
     },
     "execution_count": 7,
     "metadata": {},
     "output_type": "execute_result"
    }
   ],
   "source": [
    "model.optimize().fluxes[\"MC6PH\"]"
   ]
  },
  {
   "cell_type": "code",
   "execution_count": 8,
   "id": "9769e94c",
   "metadata": {},
   "outputs": [
    {
     "data": {
      "text/plain": [
       "{'EX_pi_e': 1000.0,\n",
       " 'EX_co2_e': 1000.0,\n",
       " 'EX_fe3_e': 1000.0,\n",
       " 'EX_h_e': 1000.0,\n",
       " 'EX_mn2_e': 1000.0,\n",
       " 'EX_fe2_e': 1000.0,\n",
       " 'EX_glc__D_e': 10.0,\n",
       " 'EX_zn2_e': 1000.0,\n",
       " 'EX_mg2_e': 1000.0,\n",
       " 'EX_ca2_e': 1000.0,\n",
       " 'EX_ni2_e': 1000.0,\n",
       " 'EX_cu2_e': 1000.0,\n",
       " 'EX_sel_e': 1000.0,\n",
       " 'EX_cobalt2_e': 1000.0,\n",
       " 'EX_h2o_e': 1000.0,\n",
       " 'EX_mobd_e': 1000.0,\n",
       " 'EX_so4_e': 1000.0,\n",
       " 'EX_nh4_e': 1000.0,\n",
       " 'EX_k_e': 1000.0,\n",
       " 'EX_na1_e': 1000.0,\n",
       " 'EX_cl_e': 1000.0,\n",
       " 'EX_o2_e': 1000.0,\n",
       " 'EX_tungs_e': 1000.0,\n",
       " 'EX_slnt_e': 1000.0}"
      ]
     },
     "execution_count": 8,
     "metadata": {},
     "output_type": "execute_result"
    }
   ],
   "source": [
    "model.medium"
   ]
  },
  {
   "cell_type": "code",
   "execution_count": 9,
   "id": "4af64f79",
   "metadata": {},
   "outputs": [],
   "source": [
    "model.reactions.EX_chtbs_e.lower_bound = -1000.0\n",
    "model.reactions.EX_chtbs_e.upper_bound = 1000.0"
   ]
  },
  {
   "cell_type": "code",
   "execution_count": 10,
   "id": "ec17a6fa",
   "metadata": {},
   "outputs": [
    {
     "data": {
      "text/html": [
       "\n",
       "        <table>\n",
       "            <tr>\n",
       "                <td><strong>Reaction identifier</strong></td><td>EX_chtbs_e</td>\n",
       "            </tr><tr>\n",
       "                <td><strong>Name</strong></td><td>Chitobiose exchange</td>\n",
       "            </tr><tr>\n",
       "                <td><strong>Memory address</strong></td>\n",
       "                <td>0x18d962a3b80</td>\n",
       "            </tr><tr>\n",
       "                <td><strong>Stoichiometry</strong></td>\n",
       "                <td>\n",
       "                    <p style='text-align:right'>chtbs_e <=></p>\n",
       "                    <p style='text-align:right'>N,N'-diacetylchitobiose <=></p>\n",
       "                </td>\n",
       "            </tr><tr>\n",
       "                <td><strong>GPR</strong></td><td></td>\n",
       "            </tr><tr>\n",
       "                <td><strong>Lower bound</strong></td><td>-1000.0</td>\n",
       "            </tr><tr>\n",
       "                <td><strong>Upper bound</strong></td><td>1000.0</td>\n",
       "            </tr>\n",
       "        </table>\n",
       "        "
      ],
      "text/plain": [
       "<Reaction EX_chtbs_e at 0x18d962a3b80>"
      ]
     },
     "execution_count": 10,
     "metadata": {},
     "output_type": "execute_result"
    }
   ],
   "source": [
    "model.reactions.EX_chtbs_e    "
   ]
  },
  {
   "cell_type": "code",
   "execution_count": 15,
   "id": "80ff4172",
   "metadata": {},
   "outputs": [
    {
     "name": "stdout",
     "output_type": "stream",
     "text": [
      "CS          7.882105e-01\n",
      "ICDHyr      7.882105e-01\n",
      "EX_pi_e    -6.217249e-15\n",
      "PYK        -2.168741e-15\n",
      "EX_co2_e    2.364632e+00\n",
      "                ...     \n",
      "PItpp      -6.217249e-15\n",
      "HPYRP       7.521028e-16\n",
      "ACOAD1f    -4.440892e-17\n",
      "asdf        9.605895e+00\n",
      "DM_gam_c    9.605895e+00\n",
      "Name: fluxes, Length: 97, dtype: float64\n",
      "9.605894736842103\n"
     ]
    }
   ],
   "source": [
    "medium = model.medium\n",
    "with model:\n",
    "    medium['EX_chtbs_e'] = 0\n",
    "    # gene integration\n",
    "    reaction = Reaction(\"asdf\")\n",
    "    reaction.name = \"name of reaction\"\n",
    "    reaction.subsystem = \"some metabolsim\"\n",
    "    reaction.lower_bound = -1000\n",
    "    reaction.upper_bound = 1000\n",
    "\n",
    "    reaction.add_metabolites({\n",
    "        model.metabolites.get_by_id(\"glcn_c\"): -1.0,\n",
    "        model.metabolites.get_by_id(\"gln__L_c\"): -1.0,\n",
    "        model.metabolites.get_by_id(\"gam_c\"): 1.0,\n",
    "        model.metabolites.get_by_id(\"glu__L_c\"): 1.0\n",
    "    })\n",
    "    model.add_reactions([reaction])\n",
    "    model.medium = medium\n",
    "    model.objective = model.reactions.asdf\n",
    "    model.add_boundary(model.metabolites.gam_c, type='demand')\n",
    "    solution = model.optimize()\n",
    "    print(solution.fluxes[solution.fluxes != 0])\n",
    "    print(solution.fluxes[\"asdf\"])"
   ]
  },
  {
   "cell_type": "code",
   "execution_count": null,
   "id": "bd267d92",
   "metadata": {},
   "outputs": [],
   "source": []
  }
 ],
 "metadata": {
  "kernelspec": {
   "display_name": "Python 3.9.13 ('python')",
   "language": "python",
   "name": "python3"
  },
  "language_info": {
   "codemirror_mode": {
    "name": "ipython",
    "version": 3
   },
   "file_extension": ".py",
   "mimetype": "text/x-python",
   "name": "python",
   "nbconvert_exporter": "python",
   "pygments_lexer": "ipython3",
   "version": "3.9.13"
  },
  "vscode": {
   "interpreter": {
    "hash": "3683712886e8845406ef8b102dc6db12f3241dd2125d9a921f1bf2c988cf850d"
   }
  }
 },
 "nbformat": 4,
 "nbformat_minor": 5
}
