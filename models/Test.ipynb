{
 "cells": [
  {
   "cell_type": "code",
   "execution_count": 64,
   "id": "500cca77",
   "metadata": {},
   "outputs": [],
   "source": [
    "from cobra.io import read_sbml_model\n",
    "model = read_sbml_model('iML1515.xml')"
   ]
  },
  {
   "cell_type": "code",
   "execution_count": 65,
   "id": "38c1f474",
   "metadata": {},
   "outputs": [
    {
     "data": {
      "text/plain": [
       "{'c': 'cytosol', 'e': 'extracellular space', 'p': 'periplasm'}"
      ]
     },
     "execution_count": 65,
     "metadata": {},
     "output_type": "execute_result"
    }
   ],
   "source": [
    "model.compartments"
   ]
  },
  {
   "cell_type": "code",
   "execution_count": 66,
   "id": "28295630",
   "metadata": {},
   "outputs": [
    {
     "name": "stdout",
     "output_type": "stream",
     "text": [
      "MC6PH MC6PH: h2o_c + mchtbs6p_c --> acgam6p_c + gam_c Monoacetylchitobiose-6-phosphate hydrolase\n"
     ]
    }
   ],
   "source": [
    "for reaction in model.metabolites.gam_c.reactions:\n",
    "    print(reaction.id, reaction, reaction.name)"
   ]
  },
  {
   "cell_type": "code",
   "execution_count": 67,
   "id": "f7795eff",
   "metadata": {},
   "outputs": [
    {
     "name": "stdout",
     "output_type": "stream",
     "text": [
      "EX_chtbs_e EX_chtbs_e: chtbs_e -->  Chitobiose exchange\n",
      "CHTBStex CHTBStex: chtbs_e <=> chtbs_p Chitobiose transport via diffusion (extracellular to periplasm)\n"
     ]
    }
   ],
   "source": [
    "for reaction in model.metabolites.chtbs_e.reactions:\n",
    "    print(reaction.id, reaction, reaction.name)"
   ]
  },
  {
   "cell_type": "code",
   "execution_count": 68,
   "id": "92a2ecc5",
   "metadata": {},
   "outputs": [
    {
     "name": "stdout",
     "output_type": "stream",
     "text": [
      "Maximize\n",
      "1.0*BIOMASS_Ec_iML1515_core_75p37M - 1.0*BIOMASS_Ec_iML1515_core_75p37M_reverse_35685\n"
     ]
    }
   ],
   "source": [
    "print(model.objective)"
   ]
  },
  {
   "cell_type": "code",
   "execution_count": 12,
   "id": "9c1ecb0c",
   "metadata": {},
   "outputs": [],
   "source": [
    "model.objective = model.reactions.MC6PH"
   ]
  },
  {
   "cell_type": "code",
   "execution_count": 69,
   "id": "078a5f40",
   "metadata": {},
   "outputs": [
    {
     "data": {
      "text/plain": [
       "0.0"
      ]
     },
     "execution_count": 69,
     "metadata": {},
     "output_type": "execute_result"
    }
   ],
   "source": [
    "model.optimize().fluxes[\"MC6PH\"]"
   ]
  },
  {
   "cell_type": "code",
   "execution_count": 70,
   "id": "9769e94c",
   "metadata": {},
   "outputs": [
    {
     "data": {
      "text/plain": [
       "{'EX_pi_e': 1000.0,\n",
       " 'EX_co2_e': 1000.0,\n",
       " 'EX_fe3_e': 1000.0,\n",
       " 'EX_h_e': 1000.0,\n",
       " 'EX_mn2_e': 1000.0,\n",
       " 'EX_fe2_e': 1000.0,\n",
       " 'EX_glc__D_e': 10.0,\n",
       " 'EX_zn2_e': 1000.0,\n",
       " 'EX_mg2_e': 1000.0,\n",
       " 'EX_ca2_e': 1000.0,\n",
       " 'EX_ni2_e': 1000.0,\n",
       " 'EX_cu2_e': 1000.0,\n",
       " 'EX_sel_e': 1000.0,\n",
       " 'EX_cobalt2_e': 1000.0,\n",
       " 'EX_h2o_e': 1000.0,\n",
       " 'EX_mobd_e': 1000.0,\n",
       " 'EX_so4_e': 1000.0,\n",
       " 'EX_nh4_e': 1000.0,\n",
       " 'EX_k_e': 1000.0,\n",
       " 'EX_na1_e': 1000.0,\n",
       " 'EX_cl_e': 1000.0,\n",
       " 'EX_o2_e': 1000.0,\n",
       " 'EX_tungs_e': 1000.0,\n",
       " 'EX_slnt_e': 1000.0}"
      ]
     },
     "execution_count": 70,
     "metadata": {},
     "output_type": "execute_result"
    }
   ],
   "source": [
    "model.medium"
   ]
  },
  {
   "cell_type": "code",
   "execution_count": 71,
   "id": "4af64f79",
   "metadata": {},
   "outputs": [],
   "source": [
    "model.reactions.EX_chtbs_e.lower_bound = -1000.0\n",
    "model.reactions.EX_chtbs_e.upper_bound = 1000.0"
   ]
  },
  {
   "cell_type": "code",
   "execution_count": 72,
   "id": "ec17a6fa",
   "metadata": {},
   "outputs": [
    {
     "data": {
      "text/html": [
       "\n",
       "        <table>\n",
       "            <tr>\n",
       "                <td><strong>Reaction identifier</strong></td><td>EX_chtbs_e</td>\n",
       "            </tr><tr>\n",
       "                <td><strong>Name</strong></td><td>Chitobiose exchange</td>\n",
       "            </tr><tr>\n",
       "                <td><strong>Memory address</strong></td>\n",
       "                <td>0x233054c7ac0</td>\n",
       "            </tr><tr>\n",
       "                <td><strong>Stoichiometry</strong></td>\n",
       "                <td>\n",
       "                    <p style='text-align:right'>chtbs_e <=></p>\n",
       "                    <p style='text-align:right'>N,N'-diacetylchitobiose <=></p>\n",
       "                </td>\n",
       "            </tr><tr>\n",
       "                <td><strong>GPR</strong></td><td></td>\n",
       "            </tr><tr>\n",
       "                <td><strong>Lower bound</strong></td><td>-1000.0</td>\n",
       "            </tr><tr>\n",
       "                <td><strong>Upper bound</strong></td><td>1000.0</td>\n",
       "            </tr>\n",
       "        </table>\n",
       "        "
      ],
      "text/plain": [
       "<Reaction EX_chtbs_e at 0x233054c7ac0>"
      ]
     },
     "execution_count": 72,
     "metadata": {},
     "output_type": "execute_result"
    }
   ],
   "source": [
    "model.reactions.EX_chtbs_e    "
   ]
  },
  {
   "cell_type": "code",
   "execution_count": 77,
   "id": "80ff4172",
   "metadata": {},
   "outputs": [
    {
     "name": "stdout",
     "output_type": "stream",
     "text": [
      "NDPK5                               0.666172\n",
      "SHK3Dr                              9.397445\n",
      "NDPK8                               0.645188\n",
      "DHORTS                             -8.156580\n",
      "OMPDC                               8.156580\n",
      "                                     ...    \n",
      "4HTHRK                              0.016496\n",
      "BIOMASS_Ec_iML1515_core_75p37M     24.657508\n",
      "OPHHXy                              0.005499\n",
      "MC6PH                             519.654393\n",
      "DM_gam_c                          519.654393\n",
      "Name: fluxes, Length: 460, dtype: float64\n",
      "-519.6543926138629\n"
     ]
    }
   ],
   "source": [
    "medium = model.medium\n",
    "with model:\n",
    "    medium['EX_chtbs_e'] = 100\n",
    "    model.medium = medium\n",
    "    model.objective = model.reactions.BIOMASS_Ec_iML1515_core_75p37M\n",
    "    model.add_boundary(model.metabolites.gam_c, type='demand')\n",
    "    solution = model.optimize()\n",
    "    print(solution.fluxes[solution.fluxes != 0])\n",
    "    print(solution.fluxes[\"MC6PH\"])"
   ]
  },
  {
   "cell_type": "code",
   "execution_count": null,
   "id": "bd267d92",
   "metadata": {},
   "outputs": [],
   "source": []
  }
 ],
 "metadata": {
  "kernelspec": {
   "display_name": "Python 3 (ipykernel)",
   "language": "python",
   "name": "python3"
  },
  "language_info": {
   "codemirror_mode": {
    "name": "ipython",
    "version": 3
   },
   "file_extension": ".py",
   "mimetype": "text/x-python",
   "name": "python",
   "nbconvert_exporter": "python",
   "pygments_lexer": "ipython3",
   "version": "3.8.13"
  }
 },
 "nbformat": 4,
 "nbformat_minor": 5
}
