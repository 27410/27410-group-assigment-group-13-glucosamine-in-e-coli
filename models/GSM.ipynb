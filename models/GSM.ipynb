{
 "cells": [
  {
   "cell_type": "code",
   "execution_count": 1,
   "id": "500cca77",
   "metadata": {},
   "outputs": [],
   "source": [
    "from cobra.io import read_sbml_model\n",
    "model = read_sbml_model('iML1515.xml')"
   ]
  },
  {
   "cell_type": "code",
   "execution_count": 2,
   "id": "517ffcb8",
   "metadata": {},
   "outputs": [
    {
     "name": "stdout",
     "output_type": "stream",
     "text": [
      "MC6PH MC6PH: h2o_c + mchtbs6p_c --> acgam6p_c + gam_c Monoacetylchitobiose-6-phosphate hydrolase\n"
     ]
    }
   ],
   "source": [
    "for reaction in model.metabolites.gam_c.reactions:\n",
    "    print(reaction.id, reaction, reaction.name)"
   ]
  },
  {
   "cell_type": "code",
   "execution_count": 3,
   "id": "a93a716d",
   "metadata": {},
   "outputs": [
    {
     "name": "stdout",
     "output_type": "stream",
     "text": [
      "Maximize\n",
      "1.0*BIOMASS_Ec_iML1515_core_75p37M - 1.0*BIOMASS_Ec_iML1515_core_75p37M_reverse_35685\n"
     ]
    }
   ],
   "source": [
    "print(model.objective)"
   ]
  },
  {
   "cell_type": "code",
   "execution_count": 4,
   "id": "fc2c2afd",
   "metadata": {},
   "outputs": [
    {
     "data": {
      "text/plain": [
       "0.0"
      ]
     },
     "execution_count": 4,
     "metadata": {},
     "output_type": "execute_result"
    }
   ],
   "source": [
    "model.optimize().fluxes[\"MC6PH\"]"
   ]
  },
  {
   "cell_type": "code",
   "execution_count": 5,
   "id": "e2e6bb17",
   "metadata": {},
   "outputs": [
    {
     "data": {
      "text/plain": [
       "{'EX_pi_e': 1000.0,\n",
       " 'EX_co2_e': 1000.0,\n",
       " 'EX_fe3_e': 1000.0,\n",
       " 'EX_h_e': 1000.0,\n",
       " 'EX_mn2_e': 1000.0,\n",
       " 'EX_fe2_e': 1000.0,\n",
       " 'EX_glc__D_e': 10.0,\n",
       " 'EX_zn2_e': 1000.0,\n",
       " 'EX_mg2_e': 1000.0,\n",
       " 'EX_ca2_e': 1000.0,\n",
       " 'EX_ni2_e': 1000.0,\n",
       " 'EX_cu2_e': 1000.0,\n",
       " 'EX_sel_e': 1000.0,\n",
       " 'EX_cobalt2_e': 1000.0,\n",
       " 'EX_h2o_e': 1000.0,\n",
       " 'EX_mobd_e': 1000.0,\n",
       " 'EX_so4_e': 1000.0,\n",
       " 'EX_nh4_e': 1000.0,\n",
       " 'EX_k_e': 1000.0,\n",
       " 'EX_na1_e': 1000.0,\n",
       " 'EX_cl_e': 1000.0,\n",
       " 'EX_o2_e': 1000.0,\n",
       " 'EX_tungs_e': 1000.0,\n",
       " 'EX_slnt_e': 1000.0}"
      ]
     },
     "execution_count": 5,
     "metadata": {},
     "output_type": "execute_result"
    }
   ],
   "source": [
    "model.medium"
   ]
  },
  {
   "cell_type": "code",
   "execution_count": 6,
   "id": "c3a10baf",
   "metadata": {},
   "outputs": [],
   "source": [
    "model.reactions.EX_chtbs_e.lower_bound = -1000.0\n",
    "model.reactions.EX_chtbs_e.upper_bound = 1000.0"
   ]
  },
  {
   "cell_type": "code",
   "execution_count": 7,
   "id": "ce485b62",
   "metadata": {},
   "outputs": [
    {
     "data": {
      "text/html": [
       "\n",
       "        <table>\n",
       "            <tr>\n",
       "                <td><strong>Reaction identifier</strong></td><td>EX_chtbs_e</td>\n",
       "            </tr><tr>\n",
       "                <td><strong>Name</strong></td><td>Chitobiose exchange</td>\n",
       "            </tr><tr>\n",
       "                <td><strong>Memory address</strong></td>\n",
       "                <td>0x1bd31aa0490</td>\n",
       "            </tr><tr>\n",
       "                <td><strong>Stoichiometry</strong></td>\n",
       "                <td>\n",
       "                    <p style='text-align:right'>chtbs_e <=></p>\n",
       "                    <p style='text-align:right'>N,N'-diacetylchitobiose <=></p>\n",
       "                </td>\n",
       "            </tr><tr>\n",
       "                <td><strong>GPR</strong></td><td></td>\n",
       "            </tr><tr>\n",
       "                <td><strong>Lower bound</strong></td><td>-1000.0</td>\n",
       "            </tr><tr>\n",
       "                <td><strong>Upper bound</strong></td><td>1000.0</td>\n",
       "            </tr>\n",
       "        </table>\n",
       "        "
      ],
      "text/plain": [
       "<Reaction EX_chtbs_e at 0x1bd31aa0490>"
      ]
     },
     "execution_count": 7,
     "metadata": {},
     "output_type": "execute_result"
    }
   ],
   "source": [
    "model.reactions.EX_chtbs_e"
   ]
  },
  {
   "cell_type": "code",
   "execution_count": 10,
   "id": "65918c2a",
   "metadata": {},
   "outputs": [
    {
     "name": "stdout",
     "output_type": "stream",
     "text": [
      "SHK3Dr                              9.397445\n",
      "DHORTS                             -8.156580\n",
      "OMPDC                               8.156580\n",
      "G5SD                                5.450665\n",
      "CS                                506.489716\n",
      "                                     ...    \n",
      "4HTHRK                              0.016496\n",
      "BIOMASS_Ec_iML1515_core_75p37M     24.657508\n",
      "OPHHXy                              0.005499\n",
      "MC6PH                             519.654393\n",
      "DM_gam_c                          519.654393\n",
      "Name: fluxes, Length: 456, dtype: float64\n",
      "519.654392613863\n",
      "24.657507602391977\n",
      "DM_gam_c: gam_c --> \n"
     ]
    }
   ],
   "source": [
    "medium = model.medium\n",
    "with model:\n",
    "    medium['EX_chtbs_e'] = 1000\n",
    "    model.medium = medium\n",
    "    # model.objective = model.reactions.BIOMASS_Ec_iML1515_core_75p37M\n",
    "    model.objective = model.reactions.MC6PH\n",
    "    model.objective = {\n",
    "                      model.reactions.BIOMASS_Ec_iML1515_core_75p37M: 0.2,\n",
    "                      }\n",
    "    model.reactions.BIOMASS_Ec_iML1515_core_75p37M.lower_bound = model.optimize().objective_value\n",
    "    model.add_boundary(model.metabolites.gam_c, type='demand')\n",
    "    solution = model.optimize()\n",
    "    print(solution.fluxes[solution.fluxes != 0])\n",
    "    print(solution.fluxes[\"MC6PH\"])\n",
    "    print(solution.fluxes[\"BIOMASS_Ec_iML1515_core_75p37M\"])\n",
    "    print(model.reactions.DM_gam_c)"
   ]
  },
  {
   "cell_type": "code",
   "execution_count": 12,
   "id": "bc610a92",
   "metadata": {},
   "outputs": [],
   "source": [
    "# from cobra import Reaction\n",
    "# medium = model.medium\n",
    "# with model:\n",
    "#     medium['EX_chtbs_e'] = 0\n",
    "#     # gene integration\n",
    "#     reaction = Reaction(\"asdf\")\n",
    "#     reaction.name = \"name of reaction\"\n",
    "#     reaction.subsystem = \"some metabolsim\"\n",
    "#     reaction.lower_bound = -1000\n",
    "#     reaction.upper_bound = 1000\n",
    "\n",
    "#     reaction.add_metabolites({\n",
    "#         model.metabolites.get_by_id(\"glcn_c\"): -1.0,\n",
    "#         model.metabolites.get_by_id(\"gln__L_c\"): -1.0,\n",
    "#         model.metabolites.get_by_id(\"gam_c\"): 1.0,\n",
    "#         model.metabolites.get_by_id(\"glu__L_c\"): 1.0\n",
    "#     })\n",
    "#     model.add_reactions([reaction])\n",
    "#     model.medium = medium\n",
    "#     model.objective = model.reactions.asdf\n",
    "#     model.add_boundary(model.metabolites.gam_c, type='demand')\n",
    "#     solution = model.optimize()\n",
    "#     print(solution.fluxes[solution.fluxes != 0])\n",
    "#     print(solution.fluxes[\"asdf\"])"
   ]
  },
  {
   "cell_type": "code",
   "execution_count": 13,
   "id": "a3409b9a",
   "metadata": {},
   "outputs": [
    {
     "data": {
      "text/html": [
       "\n",
       "        <table>\n",
       "            <tr>\n",
       "                <td><strong>Gene identifier</strong></td><td>b4025</td>\n",
       "            </tr><tr>\n",
       "                <td><strong>Name</strong></td><td>pgi</td>\n",
       "            </tr><tr>\n",
       "                <td><strong>Memory address</strong></td>\n",
       "                <td>0x1bd2fcf5370</td>\n",
       "            </tr><tr>\n",
       "                <td><strong>Functional</strong></td><td>True</td>\n",
       "            </tr><tr>\n",
       "                <td><strong>In 1 reaction(s)</strong></td><td>\n",
       "                    PGI\n",
       "                    </td>\n",
       "            </tr>\n",
       "        </table>"
      ],
      "text/plain": [
       "<Gene b4025 at 0x1bd2fcf5370>"
      ]
     },
     "execution_count": 13,
     "metadata": {},
     "output_type": "execute_result"
    }
   ],
   "source": [
    "model.genes.get_by_id(\"b4025\")"
   ]
  },
  {
   "cell_type": "code",
   "execution_count": 14,
   "id": "fe192ab5",
   "metadata": {},
   "outputs": [
    {
     "data": {
      "text/html": [
       "\n",
       "        <table>\n",
       "            <tr>\n",
       "                <td><strong>Reaction identifier</strong></td><td>PGI</td>\n",
       "            </tr><tr>\n",
       "                <td><strong>Name</strong></td><td>Glucose-6-phosphate isomerase</td>\n",
       "            </tr><tr>\n",
       "                <td><strong>Memory address</strong></td>\n",
       "                <td>0x1bd30158d00</td>\n",
       "            </tr><tr>\n",
       "                <td><strong>Stoichiometry</strong></td>\n",
       "                <td>\n",
       "                    <p style='text-align:right'>g6p_c <=> f6p_c</p>\n",
       "                    <p style='text-align:right'>D-Glucose 6-phosphate <=> D-Fructose 6-phosphate</p>\n",
       "                </td>\n",
       "            </tr><tr>\n",
       "                <td><strong>GPR</strong></td><td>b4025</td>\n",
       "            </tr><tr>\n",
       "                <td><strong>Lower bound</strong></td><td>-1000.0</td>\n",
       "            </tr><tr>\n",
       "                <td><strong>Upper bound</strong></td><td>1000.0</td>\n",
       "            </tr>\n",
       "        </table>\n",
       "        "
      ],
      "text/plain": [
       "<Reaction PGI at 0x1bd30158d00>"
      ]
     },
     "execution_count": 14,
     "metadata": {},
     "output_type": "execute_result"
    }
   ],
   "source": [
    "model.reactions.PGI"
   ]
  },
  {
   "cell_type": "code",
   "execution_count": 15,
   "id": "7d7f600e",
   "metadata": {},
   "outputs": [
    {
     "data": {
      "text/plain": [
       "7.644633780206022"
      ]
     },
     "execution_count": 15,
     "metadata": {},
     "output_type": "execute_result"
    }
   ],
   "source": [
    "model.slim_optimize()\n",
    "model.reactions.PGI.flux"
   ]
  },
  {
   "cell_type": "code",
   "execution_count": 16,
   "id": "25285e93",
   "metadata": {},
   "outputs": [
    {
     "data": {
      "text/html": [
       "\n",
       "        <table>\n",
       "            <tr>\n",
       "                <td><strong>Reaction identifier</strong></td><td>GF6PTA</td>\n",
       "            </tr><tr>\n",
       "                <td><strong>Name</strong></td><td>Glutamine-fructose-6-phosphate transaminase</td>\n",
       "            </tr><tr>\n",
       "                <td><strong>Memory address</strong></td>\n",
       "                <td>0x1bd31456eb0</td>\n",
       "            </tr><tr>\n",
       "                <td><strong>Stoichiometry</strong></td>\n",
       "                <td>\n",
       "                    <p style='text-align:right'>f6p_c + gln__L_c --> gam6p_c + glu__L_c</p>\n",
       "                    <p style='text-align:right'>D-Fructose 6-phosphate + L-Glutamine --> D-Glucosamine 6-phosphate + L-Glutamate</p>\n",
       "                </td>\n",
       "            </tr><tr>\n",
       "                <td><strong>GPR</strong></td><td>b3729</td>\n",
       "            </tr><tr>\n",
       "                <td><strong>Lower bound</strong></td><td>0.0</td>\n",
       "            </tr><tr>\n",
       "                <td><strong>Upper bound</strong></td><td>1000.0</td>\n",
       "            </tr>\n",
       "        </table>\n",
       "        "
      ],
      "text/plain": [
       "<Reaction GF6PTA at 0x1bd31456eb0>"
      ]
     },
     "execution_count": 16,
     "metadata": {},
     "output_type": "execute_result"
    }
   ],
   "source": [
    "model.reactions.GF6PTA"
   ]
  },
  {
   "cell_type": "code",
   "execution_count": 17,
   "id": "3fc46468",
   "metadata": {},
   "outputs": [
    {
     "data": {
      "text/plain": [
       "0.08286571279677561"
      ]
     },
     "execution_count": 17,
     "metadata": {},
     "output_type": "execute_result"
    }
   ],
   "source": [
    "model.slim_optimize()\n",
    "model.reactions.GF6PTA.flux"
   ]
  },
  {
   "cell_type": "code",
   "execution_count": 18,
   "id": "d400b0aa",
   "metadata": {},
   "outputs": [
    {
     "data": {
      "text/html": [
       "\n",
       "        <table>\n",
       "            <tr>\n",
       "                <td><strong>Gene identifier</strong></td><td>b0677</td>\n",
       "            </tr><tr>\n",
       "                <td><strong>Name</strong></td><td>nagA</td>\n",
       "            </tr><tr>\n",
       "                <td><strong>Memory address</strong></td>\n",
       "                <td>0x1bd2fde4160</td>\n",
       "            </tr><tr>\n",
       "                <td><strong>Functional</strong></td><td>True</td>\n",
       "            </tr><tr>\n",
       "                <td><strong>In 1 reaction(s)</strong></td><td>\n",
       "                    AGDC\n",
       "                    </td>\n",
       "            </tr>\n",
       "        </table>"
      ],
      "text/plain": [
       "<Gene b0677 at 0x1bd2fde4160>"
      ]
     },
     "execution_count": 18,
     "metadata": {},
     "output_type": "execute_result"
    }
   ],
   "source": [
    "model.genes.get_by_id(\"b0677\")"
   ]
  },
  {
   "cell_type": "code",
   "execution_count": 19,
   "id": "0fce9436",
   "metadata": {},
   "outputs": [
    {
     "data": {
      "text/html": [
       "\n",
       "        <table>\n",
       "            <tr>\n",
       "                <td><strong>Reaction identifier</strong></td><td>AGDC</td>\n",
       "            </tr><tr>\n",
       "                <td><strong>Name</strong></td><td>N-acetylglucosamine-6-phosphate deacetylase</td>\n",
       "            </tr><tr>\n",
       "                <td><strong>Memory address</strong></td>\n",
       "                <td>0x1bd31345fa0</td>\n",
       "            </tr><tr>\n",
       "                <td><strong>Stoichiometry</strong></td>\n",
       "                <td>\n",
       "                    <p style='text-align:right'>acgam6p_c + h2o_c --> ac_c + gam6p_c</p>\n",
       "                    <p style='text-align:right'>N-Acetyl-D-glucosamine 6-phosphate + H2O H2O --> Acetate + D-Glucosamine 6-phosphate</p>\n",
       "                </td>\n",
       "            </tr><tr>\n",
       "                <td><strong>GPR</strong></td><td>b0677</td>\n",
       "            </tr><tr>\n",
       "                <td><strong>Lower bound</strong></td><td>0.0</td>\n",
       "            </tr><tr>\n",
       "                <td><strong>Upper bound</strong></td><td>1000.0</td>\n",
       "            </tr>\n",
       "        </table>\n",
       "        "
      ],
      "text/plain": [
       "<Reaction AGDC at 0x1bd31345fa0>"
      ]
     },
     "execution_count": 19,
     "metadata": {},
     "output_type": "execute_result"
    }
   ],
   "source": [
    "model.reactions.AGDC"
   ]
  },
  {
   "cell_type": "code",
   "execution_count": 20,
   "id": "5e98576d",
   "metadata": {},
   "outputs": [
    {
     "data": {
      "text/html": [
       "\n",
       "        <table>\n",
       "            <tr>\n",
       "                <td><strong>Gene identifier</strong></td><td>b0679</td>\n",
       "            </tr><tr>\n",
       "                <td><strong>Name</strong></td><td>nagE</td>\n",
       "            </tr><tr>\n",
       "                <td><strong>Memory address</strong></td>\n",
       "                <td>0x1bd2fe600d0</td>\n",
       "            </tr><tr>\n",
       "                <td><strong>Functional</strong></td><td>True</td>\n",
       "            </tr><tr>\n",
       "                <td><strong>In 1 reaction(s)</strong></td><td>\n",
       "                    ACGAptspp\n",
       "                    </td>\n",
       "            </tr>\n",
       "        </table>"
      ],
      "text/plain": [
       "<Gene b0679 at 0x1bd2fe600d0>"
      ]
     },
     "execution_count": 20,
     "metadata": {},
     "output_type": "execute_result"
    }
   ],
   "source": [
    "model.genes.get_by_id(\"b0679\")"
   ]
  },
  {
   "cell_type": "code",
   "execution_count": 32,
   "id": "83eba6de",
   "metadata": {},
   "outputs": [
    {
     "data": {
      "text/plain": [
       "frozenset({<Gene b0679 at 0x1bd2fe600d0>,\n",
       "           <Gene b1101 at 0x1bd2fe60220>,\n",
       "           <Gene b2415 at 0x1bd2fdb57f0>,\n",
       "           <Gene b2416 at 0x1bd2fdb5910>,\n",
       "           <Gene b2417 at 0x1bd2fe47490>})"
      ]
     },
     "execution_count": 32,
     "metadata": {},
     "output_type": "execute_result"
    }
   ],
   "source": [
    "model.reactions.ACGAptspp.genes"
   ]
  },
  {
   "cell_type": "code",
   "execution_count": 22,
   "id": "72aed983",
   "metadata": {},
   "outputs": [
    {
     "name": "stdout",
     "output_type": "stream",
     "text": [
      "ACGAMK ACGAMK: acgam_c + atp_c --> acgam6p_c + adp_c + h_c N-acetylglucosamine kinase\n",
      "ACM6PH ACM6PH: acmum6p_c + h2o_c --> acgam6p_c + lac__D_c N-acetylmuramate 6-phosphate hydrolase\n",
      "ACGAptspp ACGAptspp: acgam_p + pep_c --> acgam6p_c + pyr_c N-Acetyl-D-glucosamine transport via PEP:Pyr PTS  (periplasm)\n",
      "MC6PH MC6PH: h2o_c + mchtbs6p_c --> acgam6p_c + gam_c Monoacetylchitobiose-6-phosphate hydrolase\n",
      "AGDC AGDC: acgam6p_c + h2o_c --> ac_c + gam6p_c N-acetylglucosamine-6-phosphate deacetylase\n",
      "AMANAPEr AMANAPEr: acmanap_c <=> acgam6p_c N-acetylmannosamine 6-phosphate epimerase\n"
     ]
    }
   ],
   "source": [
    "for reaction in model.metabolites.acgam6p_c.reactions:\n",
    "    print(reaction.id, reaction, reaction.name)"
   ]
  },
  {
   "cell_type": "code",
   "execution_count": 25,
   "id": "0dec9aec",
   "metadata": {},
   "outputs": [],
   "source": [
    "genes = [\"b0677\", \"b0678\", \"b0679\", \"b1817\", \"b1818\", \"b1819\"]\n",
    "essentiality = {}\n",
    "for gene in genes:\n",
    "    with model:\n",
    "        model.genes.get_by_id(gene).knock_out()\n",
    "        essentiality[gene] = model.slim_optimize(error_value=0.)"
   ]
  },
  {
   "cell_type": "code",
   "execution_count": 26,
   "id": "4b095d11",
   "metadata": {},
   "outputs": [
    {
     "data": {
      "text/plain": [
       "<AxesSubplot: ylabel='Frequency'>"
      ]
     },
     "execution_count": 26,
     "metadata": {},
     "output_type": "execute_result"
    },
    {
     "data": {
      "image/png": "[encoded data removed]",
      "text/plain": [
       "<Figure size 640x480 with 1 Axes>"
      ]
     },
     "metadata": {},
     "output_type": "display_data"
    }
   ],
   "source": [
    "import pandas as pd\n",
    "import matplotlib.pyplot as plt\n",
    "df = pd.DataFrame.from_dict(essentiality, orient='index')\n",
    "df = df.rename(columns={0: 'growth'})\n",
    "df = df.sort_values('growth')\n",
    "df.plot.hist()"
   ]
  },
  {
   "cell_type": "code",
   "execution_count": 40,
   "id": "8ac64671",
   "metadata": {},
   "outputs": [
    {
     "name": "stdout",
     "output_type": "stream",
     "text": [
      "SHK3Dr                            3.306562e-01\n",
      "DHORTS                           -2.869954e-01\n",
      "OMPDC                             2.869954e-01\n",
      "G5SD                              1.917858e-01\n",
      "CS                                7.096230e+00\n",
      "                                      ...     \n",
      "PAI2T                             3.886817e-04\n",
      "4HTHRK                            5.804197e-04\n",
      "BIOMASS_Ec_iML1515_core_75p37M    8.675930e-01\n",
      "ExRe1                            -4.083817e-13\n",
      "ExRe2                            -4.083817e-13\n",
      "Name: fluxes, Length: 439, dtype: float64\n",
      "0.08197712961891312\n",
      "0.0\n",
      "0.0\n",
      "-4.08381661820556e-13\n",
      "-4.08381661820556e-13\n",
      "0.8675930236571998\n"
     ]
    }
   ],
   "source": [
    "medium = model.medium\n",
    "with model:\n",
    "    medium['EX_chtbs_e'] = 0\n",
    "    model.medium = medium\n",
    "    model.genes.get_by_id(\"b0677\").knock_out()\n",
    "    model.genes.get_by_id(\"b0678\").knock_out()\n",
    "    model.genes.get_by_id(\"b0679\").knock_out()\n",
    "    model.genes.get_by_id(\"b1817\").knock_out()\n",
    "    model.genes.get_by_id(\"b1818\").knock_out()\n",
    "    model.genes.get_by_id(\"b1819\").knock_out()\n",
    "    model.genes.get_by_id(\"b1101\").knock_out()\n",
    "    model.genes.get_by_id(\"b2415\").knock_out()\n",
    "    model.genes.get_by_id(\"b2416\").knock_out()\n",
    "    model.genes.get_by_id(\"b2417\").knock_out()\n",
    "    # gene integration\n",
    "    reaction = Reaction(\"ExRe1\")\n",
    "    reaction.name = \"GlcNAc-6-P N-Acetyltransferase\"\n",
    "    reaction.lower_bound = 0\n",
    "    reaction.upper_bound = 1000\n",
    "    \n",
    "    reaction.add_metabolites({\n",
    "        model.metabolites.get_by_id(\"ac_c\"): -1.0,\n",
    "        model.metabolites.get_by_id(\"gam6p_c\"): -1.0,\n",
    "        model.metabolites.get_by_id(\"acgam6p_c\"): 1.0,\n",
    "        model.metabolites.get_by_id(\"h2o_c\"): 1.0\n",
    "    })\n",
    "    model.add_reactions([reaction])\n",
    "    reaction = Reaction(\"ExRe2\")\n",
    "    reaction.name = \"GlcNAc-6-P phosphatase\"\n",
    "    reaction.lower_bound = 0\n",
    "    reaction.upper_bound = 1000\n",
    "    \n",
    "    reaction.add_metabolites({\n",
    "        model.metabolites.get_by_id(\"acgam6p_c\"): -1.0,\n",
    "        model.metabolites.get_by_id(\"pyr_c\"): -1.0,\n",
    "        model.metabolites.get_by_id(\"pep_c\"): 1.0,\n",
    "        model.metabolites.get_by_id(\"acgam_p\"): 1.0\n",
    "    })\n",
    "    model.add_reactions([reaction])\n",
    "    model.objective = model.reactions.BIOMASS_Ec_iML1515_core_75p37M\n",
    "    model.reactions.BIOMASS_Ec_iML1515_core_75p37M.lower_bound = model.optimize().objective_value\n",
    "    model.objective = model.reactions.ExRe2\n",
    "    solution = model.optimize()\n",
    "    print(solution.fluxes[solution.fluxes != 0])\n",
    "    print(solution.fluxes[\"GF6PTA\"])\n",
    "    print(solution.fluxes[\"G6PDA\"])\n",
    "    print(solution.fluxes[\"ACGAptspp\"])\n",
    "    print(solution.fluxes[\"ExRe1\"])\n",
    "    print(solution.fluxes[\"ExRe2\"])\n",
    "    print(solution.fluxes[\"BIOMASS_Ec_iML1515_core_75p37M\"])\n",
    "    "
   ]
  }
 ],
 "metadata": {
  "kernelspec": {
   "display_name": "Python 3 (ipykernel)",
   "language": "python",
   "name": "python3"
  },
  "language_info": {
   "codemirror_mode": {
    "name": "ipython",
    "version": 3
   },
   "file_extension": ".py",
   "mimetype": "text/x-python",
   "name": "python",
   "nbconvert_exporter": "python",
   "pygments_lexer": "ipython3",
   "version": "3.8.13"
  }
 },
 "nbformat": 4,
 "nbformat_minor": 5
}
