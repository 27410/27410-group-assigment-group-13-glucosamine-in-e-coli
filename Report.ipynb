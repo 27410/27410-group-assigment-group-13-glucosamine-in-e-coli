{
 "cells": [
  {
   "cell_type": "markdown",
   "metadata": {},
   "source": [
    "# Glucosamine production in E. coli"
   ]
  },
  {
   "cell_type": "markdown",
   "metadata": {},
   "source": [
    "## 1. Introduction"
   ]
  },
  {
   "cell_type": "markdown",
   "metadata": {},
   "source": [
    "### 1.1 Literature review of the compound (Glucosamine)"
   ]
  },
  {
   "cell_type": "markdown",
   "metadata": {},
   "source": [
    "Glucosamine is an amino monosaccharides of significant commercial interest with a current global market size of 242 millions USD, that is expected to reach 270 millions USD by 2026 (ref).The most common use of glucosamine is as a dietary supplement recommended for patients suffering from osteoporosis or arthritis, as glucosamine reduces the wearing of cartilage (ref) and possess anti inflammatory properties (ref). Glucosamine is of great interest to the pharmaceutical market as well, due to its anticancer effects on a variety of tumours (ref) and its utility as a vector to deliver drugs across the brain blood barrier (ref). Moreover, some glucosamines derivatives are used as aromas in the food industry (ref), or as skin hydration and anti-aging ingredients for cosmetic creams (ref).\n",
    "\n",
    "Currently, glucosamine is produced through chemical extraction from chitin rich organic tissues. The main source of glucosamine is crustacean and mollusc exoskeletons, a primary byproduct of the seafood industry (ref). Other sources of chitin rich biomass, such as fungal and plant cell walls, are being explored to satisfy the requirements of people who cannot consume shellfish derived glucosamine due to allergies or ethical concerns. Chemical extraction of glucosamine relies on strong acids and bases that are environmentally hazardous(ref).  The necessity of safely disposing of these acids and bases, harsh treatment conditions, and high energy requirements make chemical extraction of glucosamine an expensive process (ref). Therefore, it is desirable to develop a cheaper and greener method to produce glutamine. Currently, two alternative approaches are being investigated: enzymatic extraction and microbial fermentation.\n",
    " Enzymatic extraction relies on the synergetic activity of multiple enzymes to isolate chitin from the biomass, degrade it to chitosan and finally convert it to glucosamine. Enzymatic extraction has several advantages as it operates under mild conditions and at room temperature, results in high quality glucosamine, and has no toxic or hazardous byproduct (ref). However, enzymatic extraction is held back by the high cost of the enzymes, slow production rares, and low yields (ref). \n",
    "Microbial fermentation utilises microorganisms, predominantly E. coli, to directly produce glucosamine. Microbial fermentation is more environmentally sustainable than chemical extraction and significantly faster than enzymatic extraction; however, it suffers from low yields (ref). To overcome this limitation, metabolic engineering of more efficient production strains is being investigated. This approach relies on overexpression or inactivation of genes to direct more metabolic resources towards glutamine production while maintaining the growth rate necessary for  fermentation. While no industrial production of glucosamine by fermentation is currently carried out, recombinant E. coli strains capable of producing significant amounts of glucosamine at lab scale have been engineered (ref). These encouraging results suggest that, once recombinant strain metabolism and fermentation conditions have been fully optimised, microbial fermentation could become the dominant glucosamine production method (ref).  \n"
   ]
  },
  {
   "cell_type": "markdown",
   "metadata": {},
   "source": [
    "### 1.2 Literature review of the cell factory"
   ]
  },
  {
   "cell_type": "markdown",
   "metadata": {},
   "source": [
    "*Escherichia coli* is an organism that has been widely studied and utilized for production of a large variety of compounds. The compounds produced via E. coli include things such as biofuels, biopolymers, amino acids, organic acids and recombinant proteins (Chen et. al (2013), Rosano et. al (2014)). *E. coli* has the advantage of being fast growing, easy to do metabolic engineering on and an effective production organism. Because of all this, *E. coli* is the go-to organism of choice as a model organism, as well as for a lot of production purposes. \n",
    "\n",
    "There are still certain areas in which *E. coli* is not utilized. *E. coli*, as well as many other prokaryotes, does not excel in production of proteins requiring eukaryotic post-translational modifications (Rosano et. al (2014)). Another weak point for *E. coli* is secretion, as other organisms such as from the Aspergillus and Bacillus species are much more effective at secreting proteins, making them more effective cell factories for this purpose. There are also cases in which some organisms are inherently better at producing certain compounds (such amino acids by *Corynebacterium glutamicum*, Penicillin by the Penicillium species and so on), where *E. coli* is not capable of reaching the same titers without requiring metabolic engineering. \n",
    "\n",
    "The product we seek to produce using *E. coli* is glucosamine and N-acetyl glucosamine. These compounds have already been produced in *E. coli*, showing that it makes a suitable cell factory for production (Deng et. al (2005)). The biosynthetic pathway is a relatively simple one that is tied to glycolysis, making a fast growing organism like *E. coli* an opportunistic cell factory. Glucosamine and its breakdown products have shown to have an inhibitory effect on the growth of cells, which caused Deng et al. to extend the glucosamine pathway to produce N-acetylglucosamine, leading to a higher yield. We also seek to utilize this approach for our own model.  \n",
    "\n",
    "Other suitable cell factory options for glucosamine production include *Aspergillus sp.* BCRC31742 (Hsieh et. al 2008) and *Bacillus subtilis* (Ma et. al (2019)). *Aspergillus* has the disadvantages of being more difficult to engineer, growing slower and being more difficult to utilize in fermentation tanks due to its filamentous growth. *Bacillus subtilis* has many of the same advantages of *E. coli*, making it a viable alternative. However, we chose *E. coli* due to more literature being available for glucosamine production, compared to *B. subtilis*. "
   ]
  },
  {
   "cell_type": "markdown",
   "metadata": {},
   "source": [
    "## 2. Problem definition"
   ]
  },
  {
   "cell_type": "markdown",
   "metadata": {},
   "source": [
    "Glucosamine is a compound that is used as a supplement to strengthen tendons and ligaments, as well as help in treating symptoms caused by osteoarthritis. Current methods of obtaining glucosamine are either through extraction via chitin (from shellfish or plant/fungi) or through bioproduction using cell factories. Glucosamine obtained through processing of chitin containing biomass (shrimp cells, cicada sloughs, etc.) may be problematic for people with allergies [1], and usually result in glucosamine yields of up to 20% w/w [2]. For production of glucosamine via fermentation to be a good alternative to extraction from chitin, yields need to be high. This is due to the cost of raw materials being higher for fermentation than extraction from chitin [3].\n",
    "\n",
    "Current titers for glucosamine production using *E. coli* have been cited to be around 17 g/L, a target we aim to surpass in our own strain. We are looking to modify *E. coli* to produce glucosamine more effectively via strain optimization, making it a more viable and reliable alternative to current manufacturing options. An unfortunate side effect of glucosamine is that it has an inhibitory effect on cell growth, which is why we are also adding a reaction to facilitate the creation of N-acetyl-glucosamine from glucosamine. By reducing the toxic impact of glucosamine via conversion, we should be able to reach higher titers of glucosamine, while also creating a secondary product that has commercial interest. "
   ]
  },
  {
   "cell_type": "markdown",
   "metadata": {},
   "source": [
    "## 3. Selection and assessment of existing GSM"
   ]
  },
  {
   "cell_type": "code",
   "execution_count": 1,
   "metadata": {},
   "outputs": [],
   "source": [
    "# Load neccesary packages\n",
    "from cobra.io import read_sbml_model\n",
    "from cobra import Reaction\n",
    "from cobra.flux_analysis.phenotype_phase_plane import production_envelope\n",
    "from cobra.flux_analysis import moma\n",
    "\n",
    "from cameo import phenotypic_phase_plane\n",
    "from cameo.visualization.plotting.with_plotly import PlotlyPlotter\n",
    "import warnings\n",
    "\n",
    "import matplotlib.pyplot as plt\n",
    "import numpy as np\n",
    "import pandas as pd\n",
    "warnings.filterwarnings('ignore')"
   ]
  },
  {
   "cell_type": "code",
   "execution_count": 2,
   "metadata": {},
   "outputs": [
    {
     "name": "stdout",
     "output_type": "stream",
     "text": [
      "Scaling...Wall time: 5min 29s\n",
      "\n",
      " A: min|aij| =  1.000e+00  max|aij| =  1.000e+00  ratio =  1.000e+00\n",
      "Problem data seem to be well scaled\n",
      "============================= test session starts =============================\n",
      "platform win32 -- Python 3.8.13, pytest-4.6.11, py-1.11.0, pluggy-1.0.0\n",
      "rootdir: C:\\Users\\HoangPham\\Documents\\GitHub\\27410-group-assigment-group-13-glucosamine-in-e-coli\n",
      "plugins: anyio-3.6.1\n",
      "collected 155 items / 1 skipped / 154 selected\n",
      "\n",
      "test_annotation.py ...FFFFFFFFF.FFFFF.FFFFFFFFFFFFFFF..FF..F...F....FFF. [ 34%]\n",
      "F..FF.FFF...                                                             [ 41%]\n",
      "test_basic.py ......F............F.FF                                    [ 56%]\n",
      "test_biomass.py ...F...F.....FF..FF                                      [ 69%]\n",
      "test_consistency.py ...ssssssssssssssss.FFFFF.FFF                        [ 87%]\n",
      "test_essentiality.py s                                                   [ 88%]\n",
      "test_growth.py s                                                         [ 89%]\n",
      "test_matrix.py ....                                                      [ 91%]\n",
      "test_sbml.py ..                                                          [ 92%]\n",
      "test_sbo.py FFFFFFFFFs.                                                  [100%]\n",
      "\n",
      "============================== warnings summary ===============================\n",
      "B:\\anaconda3\\envs\\cell_factory_design\\lib\\site-packages\\_pytest\\config\\__init__.py:886\n",
      "  B:\\anaconda3\\envs\\cell_factory_design\\lib\\site-packages\\_pytest\\config\\__init__.py:886: PytestAssertRewriteWarning: Module already imported so cannot be rewritten: anyio\n",
      "    self._mark_plugins_for_rewrite(hook)\n",
      "\n",
      "-- Docs: https://docs.pytest.org/en/latest/warnings.html\n",
      "======= 69 failed, 67 passed, 20 skipped, 1 warnings in 296.81 seconds ========\n"
     ]
    },
    {
     "name": "stderr",
     "output_type": "stream",
     "text": [
      "Writing snapshot report to 'iML1515.html'.\n"
     ]
    }
   ],
   "source": [
    "%%time\n",
    "!memote report snapshot ./models/iML1515.xml --filename iML1515.html"
   ]
  },
  {
   "cell_type": "code",
   "execution_count": 3,
   "metadata": {},
   "outputs": [
    {
     "name": "stdout",
     "output_type": "stream",
     "text": [
      "Scaling...\n",
      " A: min|aij| =  1.000e+00  max|aij| =  1.000e+00  ratio =  1.000e+00\n",
      "Problem data seem to be well scaled\n",
      "============================= test session starts =============================\n",
      "platform win32 -- Python 3.8.13, pytest-4.6.11, py-1.11.0, pluggy-1.0.0\n",
      "rootdir: C:\\Users\\HoangPham\\Documents\\GitHub\\27410-group-assigment-group-13-glucosamine-in-e-coli\n",
      "plugins: anyio-3.6.1\n",
      "collected 146 items / 1 skipped / 145 selected\n",
      "\n",
      "test_annotation.py ...FFFFFFFF..FFFF..FFFFFFFFFFFFFFF..FF..F...F....FFF. [ 36%]\n",
      "F..FF.FFF...                                                             [ 44%]\n",
      "test_basic.py ......F............F.FF                                    [ 60%]\n",
      "test_biomass.py .F.....F.F                                               [ 67%]\n",
      "test_consistency.py ...ssssssssssssssssFFFFFF.FFF                        [ 86%]\n",
      "test_essentiality.py s                                                   [ 87%]\n",
      "test_growth.py s                                                         [ 88%]\n",
      "test_matrix.py ....                                                      [ 91%]\n",
      "test_sbml.py ..                                                          [ 92%]\n",
      "test_sbo.py FFFFFFFFss.                                                  [100%]\n",
      "\n",
      "============================== warnings summary ===============================\n",
      "B:\\anaconda3\\envs\\cell_factory_design\\lib\\site-packages\\_pytest\\config\\__init__.py:886\n",
      "  B:\\anaconda3\\envs\\cell_factory_design\\lib\\site-packages\\_pytest\\config\\__init__.py:886: PytestAssertRewriteWarning: Module already imported so cannot be rewritten: anyio\n",
      "    self._mark_plugins_for_rewrite(hook)\n",
      "\n",
      "-- Docs: https://docs.pytest.org/en/latest/warnings.html\n",
      "======= 64 failed, 62 passed, 21 skipped, 1 warnings in 201.24 seconds ========\n",
      "Wall time: 3min 37s\n"
     ]
    },
    {
     "name": "stderr",
     "output_type": "stream",
     "text": [
      "Writing snapshot report to 'iJR904.html'.\n"
     ]
    }
   ],
   "source": [
    "%%time\n",
    "!memote report snapshot ./models/iJR904.xml --filename iJR904.html"
   ]
  },
  {
   "cell_type": "code",
   "execution_count": 4,
   "metadata": {},
   "outputs": [
    {
     "name": "stdout",
     "output_type": "stream",
     "text": [
      "Scaling...\n",
      " A: min|aij| =  1.000e+00  max|aij| =  1.000e+00  ratio =  1.000e+00\n",
      "Problem data seem to be well scaled\n",
      "============================= test session starts =============================\n",
      "platform win32 -- Python 3.8.13, pytest-4.6.11, py-1.11.0, pluggy-1.0.0\n",
      "rootdir: C:\\Users\\HoangPham\\Documents\\GitHub\\27410-group-assigment-group-13-glucosamine-in-e-coli\n",
      "plugins: anyio-3.6.1\n",
      "collected 146 items / 1 skipped / 145 selected\n",
      "\n",
      "test_annotation.py ...FFFFFFFF..FFFFF.FFFFFFFFFFFFFFF..FF..F...F....FFF. [ 36%]\n",
      "F..FF.FFF...                                                             [ 44%]\n",
      "test_basic.py ......F............F.FF                                    [ 60%]\n",
      "test_biomass.py .F.....F.F                                               [ 67%]\n",
      "test_consistency.py ...ssssssssssssssss..FFFF.FFF                        [ 86%]\n",
      "test_essentiality.py s                                                   [ 87%]\n",
      "test_growth.py s                                                         [ 88%]\n",
      "test_matrix.py ....                                                      [ 91%]\n",
      "test_sbml.py ..                                                          [ 92%]\n",
      "test_sbo.py FFFFFFFFFs.                                                  [100%]\n",
      "\n",
      "============================== warnings summary ===============================\n",
      "B:\\anaconda3\\envs\\cell_factory_design\\lib\\site-packages\\_pytest\\config\\__init__.py:886\n",
      "  B:\\anaconda3\\envs\\cell_factory_design\\lib\\site-packages\\_pytest\\config\\__init__.py:886: PytestAssertRewriteWarning: Module already imported so cannot be rewritten: anyio\n",
      "    self._mark_plugins_for_rewrite(hook)\n",
      "\n",
      "-- Docs: https://docs.pytest.org/en/latest/warnings.html\n",
      "======= 64 failed, 63 passed, 20 skipped, 1 warnings in 250.13 seconds ========\n",
      "Wall time: 4min 38s\n"
     ]
    },
    {
     "name": "stderr",
     "output_type": "stream",
     "text": [
      "Writing snapshot report to 'iAF1260.html'.\n"
     ]
    }
   ],
   "source": [
    "%%time\n",
    "!memote report snapshot ./models/iAF1260.xml --filename iAF1260.html"
   ]
  },
  {
   "cell_type": "code",
   "execution_count": 5,
   "metadata": {},
   "outputs": [
    {
     "name": "stdout",
     "output_type": "stream",
     "text": [
      "Scaling...\n",
      " A: min|aij| =  1.000e+00  max|aij| =  1.000e+00  ratio =  1.000e+00\n",
      "Problem data seem to be well scaled\n",
      "============================= test session starts =============================\n",
      "platform win32 -- Python 3.8.13, pytest-4.6.11, py-1.11.0, pluggy-1.0.0\n",
      "rootdir: C:\\Users\\HoangPham\\Documents\\GitHub\\27410-group-assigment-group-13-glucosamine-in-e-coli\n",
      "plugins: anyio-3.6.1\n",
      "collected 155 items / 1 skipped / 154 selected\n",
      "\n",
      "test_annotation.py ...FFFFFFFF..FFFFF.FFFFFFFFFFFFFFF..FF..F...F....FFF. [ 34%]\n",
      "F..FF.FFF...                                                             [ 41%]\n",
      "test_basic.py ......F............F.FF                                    [ 56%]\n",
      "test_biomass.py .............FF..FF                                      [ 69%]\n",
      "test_consistency.py ...ssssssssssssssss..FFFF.FFF                        [ 87%]\n",
      "test_essentiality.py s                                                   [ 88%]\n",
      "test_growth.py s                                                         [ 89%]\n",
      "test_matrix.py ....                                                      [ 91%]\n",
      "test_sbml.py ..                                                          [ 92%]\n",
      "test_sbo.py FFFFFFFFFs.                                                  [100%]\n",
      "\n",
      "============================== warnings summary ===============================\n",
      "B:\\anaconda3\\envs\\cell_factory_design\\lib\\site-packages\\_pytest\\config\\__init__.py:886\n",
      "  B:\\anaconda3\\envs\\cell_factory_design\\lib\\site-packages\\_pytest\\config\\__init__.py:886: PytestAssertRewriteWarning: Module already imported so cannot be rewritten: anyio\n",
      "    self._mark_plugins_for_rewrite(hook)\n",
      "\n",
      "-- Docs: https://docs.pytest.org/en/latest/warnings.html\n",
      "======= 65 failed, 71 passed, 20 skipped, 1 warnings in 309.32 seconds ========\n",
      "Wall time: 5min 39s\n"
     ]
    },
    {
     "name": "stderr",
     "output_type": "stream",
     "text": [
      "Writing snapshot report to 'iJO1366.html'.\n"
     ]
    }
   ],
   "source": [
    "%%time\n",
    "!memote report snapshot ./models/iJO1366.xml --filename iJO1366.html"
   ]
  },
  {
   "cell_type": "markdown",
   "metadata": {},
   "source": [
    "## 4. Computer-Aided Cell Factory Engineering (<1500 words if Category II project)"
   ]
  },
  {
   "cell_type": "code",
   "execution_count": null,
   "metadata": {},
   "outputs": [],
   "source": []
  },
  {
   "cell_type": "markdown",
   "metadata": {},
   "source": [
    "## 5. Discussion (<500 words)"
   ]
  },
  {
   "cell_type": "markdown",
   "metadata": {},
   "source": [
    "## 6. Conclusion (<200 words)"
   ]
  },
  {
   "cell_type": "markdown",
   "metadata": {},
   "source": [
    "## References"
   ]
  },
  {
   "cell_type": "code",
   "execution_count": null,
   "metadata": {},
   "outputs": [],
   "source": []
  }
 ],
 "metadata": {
  "kernelspec": {
   "display_name": "Python 3 (ipykernel)",
   "language": "python",
   "name": "python3"
  },
  "language_info": {
   "codemirror_mode": {
    "name": "ipython",
    "version": 3
   },
   "file_extension": ".py",
   "mimetype": "text/x-python",
   "name": "python",
   "nbconvert_exporter": "python",
   "pygments_lexer": "ipython3",
   "version": "3.8.13"
  }
 },
 "nbformat": 4,
 "nbformat_minor": 4
}
